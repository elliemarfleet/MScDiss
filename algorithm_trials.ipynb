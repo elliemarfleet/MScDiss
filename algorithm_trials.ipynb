{
 "cells": [
  {
   "cell_type": "markdown",
   "id": "d7da94e7-4111-4a06-97fd-17b9f4cfa283",
   "metadata": {},
   "source": [
    "## Trailling clustering algorithms (outside of kmeans)"
   ]
  },
  {
   "cell_type": "code",
   "execution_count": 2,
   "id": "8080d0ca-c913-4f9d-8778-0c70ac83d271",
   "metadata": {},
   "outputs": [],
   "source": [
    "# Import all libraries and packages\n",
    "import pandas as pd \n",
    "import seaborn as sns\n",
    "import numpy as np\n",
    "import matplotlib.pyplot as plt\n",
    "import math\n",
    "from numpy.random import seed\n",
    "from sklearn.cluster import KMeans\n",
    "from sklearn.metrics import silhouette_score, calinski_harabasz_score\n",
    "from sklearn.decomposition import PCA\n",
    "from sklearn.preprocessing import scale, MinMaxScaler\n",
    "from sklearn.linear_model import LinearRegression\n",
    "from sklearn.ensemble import RandomForestRegressor\n",
    "from sklearn.model_selection import cross_val_score\n",
    "from sklearn.model_selection import cross_validate\n",
    "from sklearn import metrics\n",
    "import warnings\n",
    "from sklearn.metrics import homogeneity_score\n",
    "%matplotlib inline\n",
    "from sklearn.datasets import make_blobs\n",
    "from sklearn.preprocessing import StandardScaler"
   ]
  },
  {
   "cell_type": "code",
   "execution_count": 3,
   "id": "29d45a9a-8570-4cd9-a10e-9934a2bfc136",
   "metadata": {},
   "outputs": [
    {
     "data": {
      "text/html": [
       "<div>\n",
       "<style scoped>\n",
       "    .dataframe tbody tr th:only-of-type {\n",
       "        vertical-align: middle;\n",
       "    }\n",
       "\n",
       "    .dataframe tbody tr th {\n",
       "        vertical-align: top;\n",
       "    }\n",
       "\n",
       "    .dataframe thead th {\n",
       "        text-align: right;\n",
       "    }\n",
       "</style>\n",
       "<table border=\"1\" class=\"dataframe\">\n",
       "  <thead>\n",
       "    <tr style=\"text-align: right;\">\n",
       "      <th></th>\n",
       "      <th>PC1</th>\n",
       "      <th>PC2</th>\n",
       "      <th>PC3</th>\n",
       "      <th>PC4</th>\n",
       "    </tr>\n",
       "  </thead>\n",
       "  <tbody>\n",
       "    <tr>\n",
       "      <th>0</th>\n",
       "      <td>0.553086</td>\n",
       "      <td>0.326666</td>\n",
       "      <td>0.574046</td>\n",
       "      <td>-1.784805</td>\n",
       "    </tr>\n",
       "    <tr>\n",
       "      <th>1</th>\n",
       "      <td>1.630674</td>\n",
       "      <td>-0.650065</td>\n",
       "      <td>1.823799</td>\n",
       "      <td>-2.259643</td>\n",
       "    </tr>\n",
       "    <tr>\n",
       "      <th>2</th>\n",
       "      <td>0.954668</td>\n",
       "      <td>0.500511</td>\n",
       "      <td>1.714916</td>\n",
       "      <td>-2.232470</td>\n",
       "    </tr>\n",
       "    <tr>\n",
       "      <th>3</th>\n",
       "      <td>1.232923</td>\n",
       "      <td>1.124380</td>\n",
       "      <td>1.983232</td>\n",
       "      <td>-1.713557</td>\n",
       "    </tr>\n",
       "    <tr>\n",
       "      <th>4</th>\n",
       "      <td>-2.799251</td>\n",
       "      <td>0.054982</td>\n",
       "      <td>1.039514</td>\n",
       "      <td>-0.052945</td>\n",
       "    </tr>\n",
       "  </tbody>\n",
       "</table>\n",
       "</div>"
      ],
      "text/plain": [
       "        PC1       PC2       PC3       PC4\n",
       "0  0.553086  0.326666  0.574046 -1.784805\n",
       "1  1.630674 -0.650065  1.823799 -2.259643\n",
       "2  0.954668  0.500511  1.714916 -2.232470\n",
       "3  1.232923  1.124380  1.983232 -1.713557\n",
       "4 -2.799251  0.054982  1.039514 -0.052945"
      ]
     },
     "execution_count": 3,
     "metadata": {},
     "output_type": "execute_result"
    }
   ],
   "source": [
    "# import PCA data from R\n",
    "pca = pd.read_csv('pca_last.csv')"
   ]
  },
  {
   "cell_type": "markdown",
   "id": "929c0918-e6a7-4c52-8c49-fb299eb1d81c",
   "metadata": {},
   "source": [
    "### 1. Agglomerative clustering"
   ]
  },
  {
   "cell_type": "code",
   "execution_count": 12,
   "id": "14c73c77-6229-465b-a118-dc9b45cdd7d9",
   "metadata": {},
   "outputs": [],
   "source": [
    "# agglomerative clustering\n",
    "from numpy import unique\n",
    "from numpy import where\n",
    "from sklearn.datasets import make_classification\n",
    "from sklearn.cluster import AgglomerativeClustering\n",
    "from matplotlib import pyplot"
   ]
  },
  {
   "cell_type": "code",
   "execution_count": 80,
   "id": "7211c0e1-e3b1-4ef6-90dd-1e253c202fae",
   "metadata": {},
   "outputs": [
    {
     "data": {
      "text/plain": [
       "(array([   0,    1,    2, ..., 7875, 7880, 7881]),)"
      ]
     },
     "execution_count": 80,
     "metadata": {},
     "output_type": "execute_result"
    }
   ],
   "source": [
    "hc = AgglomerativeClustering(n_clusters=4, affinity='euclidean',linkage='ward') # Again, 'ward' is specified here to match the linkage in sch.dendrogram.\n",
    "y_hc = hc.fit_predict(pca)\n",
    "\n",
    "# Cluster 1\n",
    "np.where(y_hc == 0)"
   ]
  },
  {
   "cell_type": "code",
   "execution_count": 81,
   "id": "02cc2b8c-cf7f-4a95-a31d-69773227dd7c",
   "metadata": {},
   "outputs": [],
   "source": [
    "# calculate silhouette score \n",
    "score = silhouette_score(pca, y_hc, metric='euclidean')"
   ]
  },
  {
   "cell_type": "code",
   "execution_count": 15,
   "id": "9306847c-65c2-4e9b-a597-de84a83a6fb6",
   "metadata": {},
   "outputs": [
    {
     "data": {
      "text/plain": [
       "0.260783091005266"
      ]
     },
     "execution_count": 15,
     "metadata": {},
     "output_type": "execute_result"
    }
   ],
   "source": [
    "score"
   ]
  },
  {
   "cell_type": "code",
   "execution_count": 82,
   "id": "a64a021d-e9e0-47f0-8de5-611880af98d5",
   "metadata": {},
   "outputs": [
    {
     "data": {
      "text/plain": [
       "2681.5627202291525"
      ]
     },
     "execution_count": 82,
     "metadata": {},
     "output_type": "execute_result"
    }
   ],
   "source": [
    "chs = calinski_harabasz_score(pca, y_hc)\n",
    "chs"
   ]
  },
  {
   "cell_type": "markdown",
   "id": "2636158f-5f7d-40b8-93a4-37896537768e",
   "metadata": {},
   "source": [
    "### 2. BIRCH"
   ]
  },
  {
   "cell_type": "code",
   "execution_count": 57,
   "id": "fa395f59-127a-47cb-8283-d0b85e9ab967",
   "metadata": {},
   "outputs": [
    {
     "data": {
      "text/plain": [
       "(array([   0,    1,    2, ..., 7874, 7875, 7881]),)"
      ]
     },
     "execution_count": 57,
     "metadata": {},
     "output_type": "execute_result"
    }
   ],
   "source": [
    "# define the model\n",
    "from sklearn.cluster import Birch\n",
    "\n",
    "model = Birch(threshold=0.01, n_clusters=4)\n",
    "\n",
    "# fit the model\n",
    "t = model.fit_predict(pca)\n",
    "\n",
    "# Cluster 1\n",
    "np.where(t == 0)"
   ]
  },
  {
   "cell_type": "code",
   "execution_count": 58,
   "id": "9ae26118-8f61-453c-a804-a3d3977706dc",
   "metadata": {},
   "outputs": [],
   "source": [
    "# calculate silhouette score \n",
    "score = silhouette_score(pca, t, metric=\"euclidean\")"
   ]
  },
  {
   "cell_type": "code",
   "execution_count": 59,
   "id": "7fede52a-a90f-40a4-82c1-2d18a324e66b",
   "metadata": {},
   "outputs": [
    {
     "data": {
      "text/plain": [
       "0.2593552218547294"
      ]
     },
     "execution_count": 59,
     "metadata": {},
     "output_type": "execute_result"
    }
   ],
   "source": [
    "score"
   ]
  },
  {
   "cell_type": "code",
   "execution_count": 83,
   "id": "3384c390-712d-4294-bf7e-780430c04189",
   "metadata": {},
   "outputs": [
    {
     "data": {
      "text/plain": [
       "2677.4207703484803"
      ]
     },
     "execution_count": 83,
     "metadata": {},
     "output_type": "execute_result"
    }
   ],
   "source": [
    "chs = calinski_harabasz_score(pca, t)\n",
    "chs"
   ]
  },
  {
   "cell_type": "markdown",
   "id": "f4e3fdb2-d3f9-4207-9104-3f488d7fc0dd",
   "metadata": {},
   "source": [
    "### 3. DBSCAN"
   ]
  },
  {
   "cell_type": "code",
   "execution_count": 61,
   "id": "6ab9bce9-690a-45be-8636-12b38e9876ef",
   "metadata": {},
   "outputs": [],
   "source": [
    "# Trial 4 \n",
    "# dbscan clustering\n",
    "from numpy import unique\n",
    "from numpy import where\n",
    "from sklearn.datasets import make_classification\n",
    "from sklearn.cluster import DBSCAN\n",
    "from matplotlib import pyplot\n",
    "\n",
    "# define the model\n",
    "model = DBSCAN(eps=0.30, min_samples=9)\n",
    "\n",
    "# fit model and predict clusters\n",
    "k = model.fit_predict(pca)"
   ]
  },
  {
   "cell_type": "code",
   "execution_count": 62,
   "id": "45ed1611-9856-4293-9e07-f021feffb544",
   "metadata": {},
   "outputs": [],
   "source": [
    "# calculate silhouette score \n",
    "score = silhouette_score(pca, k, metric=\"euclidean\")"
   ]
  },
  {
   "cell_type": "code",
   "execution_count": 63,
   "id": "44887a2e-69d3-4869-97f5-5a67fe769b9d",
   "metadata": {},
   "outputs": [
    {
     "data": {
      "text/plain": [
       "-0.38110368000600997"
      ]
     },
     "execution_count": 63,
     "metadata": {},
     "output_type": "execute_result"
    }
   ],
   "source": [
    "score"
   ]
  },
  {
   "cell_type": "code",
   "execution_count": 64,
   "id": "e49d17cb-c84a-424d-9f6a-949c7d3a9417",
   "metadata": {},
   "outputs": [
    {
     "data": {
      "text/plain": [
       "128.412880440353"
      ]
     },
     "execution_count": 64,
     "metadata": {},
     "output_type": "execute_result"
    }
   ],
   "source": [
    "chs = calinski_harabasz_score(pca, k)\n",
    "chs"
   ]
  },
  {
   "cell_type": "markdown",
   "id": "93fe28ca-c871-49a5-b2a7-59384f2dd72e",
   "metadata": {},
   "source": [
    "### 4. MiniBatchKmeans"
   ]
  },
  {
   "cell_type": "code",
   "execution_count": 65,
   "id": "5f53915a-a721-4d50-95e9-41f5d819f161",
   "metadata": {},
   "outputs": [],
   "source": [
    "from sklearn.cluster import MiniBatchKMeans\n",
    "\n",
    "# define the model\n",
    "model = MiniBatchKMeans(n_clusters=4)\n",
    "\n",
    "# fit the model\n",
    "e = model.fit_predict(pca)"
   ]
  },
  {
   "cell_type": "code",
   "execution_count": 66,
   "id": "374fe6d9-9053-4ebb-b306-5794f8d18a2a",
   "metadata": {},
   "outputs": [],
   "source": [
    "# calculate silhouette score \n",
    "score = silhouette_score(pca, e, metric=\"euclidean\")"
   ]
  },
  {
   "cell_type": "code",
   "execution_count": 75,
   "id": "4e8e6bcc-1cd0-4b45-86e1-f70ac3f86587",
   "metadata": {},
   "outputs": [
    {
     "data": {
      "text/plain": [
       "0.2992276048072439"
      ]
     },
     "execution_count": 75,
     "metadata": {},
     "output_type": "execute_result"
    }
   ],
   "source": [
    "score"
   ]
  },
  {
   "cell_type": "code",
   "execution_count": 68,
   "id": "fa97f0f5-cc24-45bd-bc40-fb89ea5b5128",
   "metadata": {},
   "outputs": [
    {
     "data": {
      "text/plain": [
       "3212.868391565942"
      ]
     },
     "execution_count": 68,
     "metadata": {},
     "output_type": "execute_result"
    }
   ],
   "source": [
    "chs = calinski_harabasz_score(pca, e)\n",
    "chs"
   ]
  },
  {
   "cell_type": "markdown",
   "id": "249f0848-f10c-41c9-ba0e-e1df4b8d06ae",
   "metadata": {},
   "source": [
    "### 5. Spectral  "
   ]
  },
  {
   "cell_type": "code",
   "execution_count": 31,
   "id": "a171ca4b-349b-47ad-8a39-1aa8c3d705b1",
   "metadata": {},
   "outputs": [],
   "source": [
    "from sklearn.cluster import SpectralClustering"
   ]
  },
  {
   "cell_type": "code",
   "execution_count": 76,
   "id": "2c91052f-a689-4f8a-8526-202e40d148f5",
   "metadata": {},
   "outputs": [],
   "source": [
    "# define the model\n",
    "model = SpectralClustering(n_clusters=4)\n",
    "\n",
    "# fit model and predict clusters\n",
    "b = model.fit_predict(pca)"
   ]
  },
  {
   "cell_type": "code",
   "execution_count": 77,
   "id": "50f0084a-17b5-4ac0-9de6-c69780ed4acd",
   "metadata": {},
   "outputs": [],
   "source": [
    "# calculate silhouette score \n",
    "score = silhouette_score(pca, b, metric=\"euclidean\")"
   ]
  },
  {
   "cell_type": "code",
   "execution_count": 78,
   "id": "c5e6685c-c5c8-4282-af0e-9725ab6b646e",
   "metadata": {},
   "outputs": [
    {
     "data": {
      "text/plain": [
       "0.3135524110115014"
      ]
     },
     "execution_count": 78,
     "metadata": {},
     "output_type": "execute_result"
    }
   ],
   "source": [
    "score"
   ]
  },
  {
   "cell_type": "markdown",
   "id": "352349f0-3df2-43a8-ae5a-3be137bab1b2",
   "metadata": {},
   "source": [
    "Spectral clustering obtains the highest silhouette score of all algorithms, explore further."
   ]
  },
  {
   "cell_type": "code",
   "execution_count": 79,
   "id": "91d3ab24-13e7-41d3-9fa5-87339444950c",
   "metadata": {},
   "outputs": [
    {
     "data": {
      "text/plain": [
       "1378.4389885633766"
      ]
     },
     "execution_count": 79,
     "metadata": {},
     "output_type": "execute_result"
    }
   ],
   "source": [
    "chs = calinski_harabasz_score(pca, b)\n",
    "chs"
   ]
  },
  {
   "cell_type": "code",
   "execution_count": 35,
   "id": "fdbf745c-6a87-47e9-9668-0a9549c99fff",
   "metadata": {},
   "outputs": [],
   "source": [
    "# append labels \n",
    "pca['Cluster'] = pd.Series(b, index=pca.index)"
   ]
  },
  {
   "cell_type": "code",
   "execution_count": 36,
   "id": "f05c63e3-2e2d-4e7c-a605-8f3296a6c828",
   "metadata": {},
   "outputs": [
    {
     "data": {
      "text/plain": [
       "0    7811\n",
       "2      39\n",
       "1      34\n",
       "3       2\n",
       "Name: Cluster, dtype: int64"
      ]
     },
     "execution_count": 36,
     "metadata": {},
     "output_type": "execute_result"
    }
   ],
   "source": [
    "# get value counts to see how many people are in each cluster\n",
    "pca['Cluster'].value_counts()"
   ]
  },
  {
   "cell_type": "markdown",
   "id": "5eacef08-047b-4e78-83d1-9967da1a4c9d",
   "metadata": {},
   "source": [
    "Algorithm disregarded due to unequal spread of individuals in each group."
   ]
  }
 ],
 "metadata": {
  "kernelspec": {
   "display_name": "Python 3 (ipykernel)",
   "language": "python",
   "name": "python3"
  },
  "language_info": {
   "codemirror_mode": {
    "name": "ipython",
    "version": 3
   },
   "file_extension": ".py",
   "mimetype": "text/x-python",
   "name": "python",
   "nbconvert_exporter": "python",
   "pygments_lexer": "ipython3",
   "version": "3.9.7"
  }
 },
 "nbformat": 4,
 "nbformat_minor": 5
}
